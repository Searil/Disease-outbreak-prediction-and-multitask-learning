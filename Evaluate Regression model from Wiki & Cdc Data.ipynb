{
 "cells": [
  {
   "cell_type": "code",
   "execution_count": null,
   "metadata": {
    "collapsed": false
   },
   "outputs": [],
   "source": [
    "import pandas as pd\n",
    "import numpy as np\n",
    "import xlsxwriter as ex\n",
    "from sklearn.linear_model import LinearRegression\n",
    "from sklearn import cross_validation\n",
    "from sklearn import linear_model, grid_search, datasets\n",
    "from sklearn.grid_search import GridSearchCV, RandomizedSearchCV\n",
    "from sklearn.metrics import r2_score, mean_absolute_error, mean_squared_error, accuracy_score"
   ]
  },
  {
   "cell_type": "code",
   "execution_count": null,
   "metadata": {
    "collapsed": false
   },
   "outputs": [],
   "source": [
    "%cd Datasets/"
   ]
  },
  {
   "cell_type": "code",
   "execution_count": null,
   "metadata": {
    "collapsed": false
   },
   "outputs": [],
   "source": [
    "wiki_data = pd.read_csv('normalized_disease_wiki_0_1_range.csv')\n",
    "cdc_data = pd.read_csv('normalized_cdc_all_disease.csv')"
   ]
  },
  {
   "cell_type": "code",
   "execution_count": null,
   "metadata": {
    "collapsed": true
   },
   "outputs": [],
   "source": [
    "workbook = ex.Workbook('Linear_regression_results.xlsx')\n",
    "worksheet = workbook.add_worksheet()"
   ]
  },
  {
   "cell_type": "code",
   "execution_count": null,
   "metadata": {
    "collapsed": false
   },
   "outputs": [],
   "source": [
    "xx = wiki_data['Measles']\n",
    "yy = cdc_data['Measles']\n",
    "\n",
    "diabetes_X_train = xx[:-20]\n",
    "diabetes_X_test = xx[-20:]\n",
    "\n",
    "# Split the targets into training/testing sets\n",
    "diabetes_y_train = yy[:-20]\n",
    "diabetes_y_test = yy[-20:]\n",
    "\n",
    "# Create linear regression object\n",
    "regr = linear_model.LinearRegression()\n",
    "\n",
    "# Train the model using the training sets\n",
    "regr.fit(diabetes_X_train, diabetes_y_train)\n",
    "\n",
    "# The coefficients\n",
    "print('Coefficients: \\n', regr.coef_)\n",
    "# The mean square error\n",
    "print(\"Residual sum of squares: %.2f\"\n",
    "      % np.mean((regr.predict(diabetes_X_test) - diabetes_y_test) ** 2))\n",
    "# Explained variance score: 1 is perfect prediction\n",
    "print('Variance score: %.2f' % regr.score(diabetes_X_test, diabetes_y_test))"
   ]
  },
  {
   "cell_type": "code",
   "execution_count": null,
   "metadata": {
    "collapsed": false
   },
   "outputs": [],
   "source": [
    "col = 0\n",
    "row = 0\n",
    "for i in cdc_data:\n",
    "    col = 0\n",
    "    for j in wiki_data:\n",
    "        if j != 'Unnamed: 0' and i != 'Date':\n",
    "            train_list = []\n",
    "            ground_truth_list = []\n",
    "            \n",
    "            for k in wiki_data[j]:\n",
    "                xxx = []\n",
    "                xxx.append(k)\n",
    "                train_list.append(xxx)\n",
    "            for m in cdc_data[i][2:]:\n",
    "              \n",
    "                ground_truth_list.append(m)\n",
    "                \n",
    "            t = train_list[:90]\n",
    "            g = ground_truth_list[:90]\n",
    "            t_t = train_list[90:]\n",
    "            g_g = ground_truth_list[90:]\n",
    "            \n",
    "            regr = linear_model.LinearRegression()\n",
    "            t = np.asarray(t)\n",
    "            t_t = np.array(t_t).T\n",
    "            g = np.array(g).T\n",
    "            g_g = np.array(g_g).T\n",
    "            print t\n",
    "            print g.shape\n",
    "            # Train the model using the training sets\n",
    "            regr.fit(t,g)\n",
    "\n",
    "            # The coefficients\n",
    "            print('Coefficients: \\n', regr.coef_)\n",
    "            # The mean square error\n",
    "            print(\"Residual sum of squares: %.2f\"\n",
    "              % np.mean((regr.predict(t_t) - g_g) ** 2))\n",
    "            # Explained variance score: 1 is perfect prediction\n",
    "            print('Variance score: %.2f' % regr.score(t_t, g_g))\n",
    "\n",
    "\n",
    "            r2_list, avg_r2 = getScore(train_list, ground_truth_list)\n",
    "            worksheet.write(row,col, r2_list)\n",
    "            col = col + 1\n",
    "            worksheet.write(row,col, avg_r2)\n",
    "            col = col + 1\n",
    "    row = row + 1\n",
    "workbook.close()"
   ]
  },
  {
   "cell_type": "code",
   "execution_count": null,
   "metadata": {
    "collapsed": true
   },
   "outputs": [],
   "source": [
    "def getScore(X,y):\n",
    "    data = X\n",
    "    gt = y\n",
    "    \n",
    "    parameters = {\"fit_intercept\": [True,False],\n",
    "              \"normalize\":[True, False],\n",
    "              \"copy_X\":[True, False]\n",
    "                 }\n",
    "    \n",
    "    #cv = cross_validation.KFold(len(train), n_folds=10, shuffle=True)\n",
    "    #for data,gt in cv:\n",
    "       #print data, gt\n",
    "    all_r2_scores = []\n",
    "    avg_r2_scores = 0.0\n",
    "    for random_generator in range(1,11):\n",
    "        X_train, X_test, y_train, y_test = cross_validation.train_test_split(data, gt, test_size=0.3, random_state=random_generator)\n",
    "        mtl = linear_model.LinearRegression()\n",
    "    \n",
    "        grid_search = GridSearchCV(mtl, param_grid=parameters)\n",
    "        grid_search.fit(X_train, y_train)\n",
    "        predictions = grid_search.predict(X_test)\n",
    "        \n",
    "        all_r2_scores.append(r2_score(y_test, predictions))\n",
    "        avg_r2_scores = avg_r2_scores + r2_score(y_test, predictions)\n",
    "\n",
    "        \n",
    "    return all_r2_scores, avg_r2_scores"
   ]
  },
  {
   "cell_type": "code",
   "execution_count": null,
   "metadata": {
    "collapsed": false
   },
   "outputs": [],
   "source": [
    "def scikit(data, data_name):\n",
    "    X_train, X_test, y_train, y_test = cross_validation.train_test_split(data, data_name, test_size=0.3, random_state=1)\n",
    "    \n",
    "    model = LinearRegression()\n",
    "    model.fit(X_train, y_train)\n",
    "    \n",
    "    predictions = model.predict(X_test)\n",
    "    sum = 0\n",
    "    sum2 = 0\n",
    "    for i, prediction in enumerate(predictions):\n",
    "        #print 'Predicted: %s, Target: %s' % (prediction, y_test[i])\n",
    "        sum = sum + (prediction - y_test[i])\n",
    "        sum2 = sum2 + ((prediction - y_test[i]) * (prediction - y_test[i]))\n",
    "        \n",
    "    print data_name, ' / Ground truth r^2 score %.4f' % model.score(X_test, y_test)\n",
    "    \n",
    "    print \"---------\"\n",
    "    print sum, sum / len(predictions)\n",
    "    print\"-----------\"\n",
    "    print sum2, sum2 / len(predictions)\n",
    "    "
   ]
  },
  {
   "cell_type": "code",
   "execution_count": null,
   "metadata": {
    "collapsed": false
   },
   "outputs": [],
   "source": [
    "scikit(wiki_data['Measles'], deneme5['Measles'])"
   ]
  },
  {
   "cell_type": "code",
   "execution_count": null,
   "metadata": {
    "collapsed": true
   },
   "outputs": [],
   "source": []
  }
 ],
 "metadata": {
  "kernelspec": {
   "display_name": "Python 2",
   "language": "python",
   "name": "python2"
  },
  "language_info": {
   "codemirror_mode": {
    "name": "ipython",
    "version": 2
   },
   "file_extension": ".py",
   "mimetype": "text/x-python",
   "name": "python",
   "nbconvert_exporter": "python",
   "pygments_lexer": "ipython2",
   "version": "2.7.10"
  }
 },
 "nbformat": 4,
 "nbformat_minor": 0
}
