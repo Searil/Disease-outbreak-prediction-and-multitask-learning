{
 "cells": [
  {
   "cell_type": "code",
   "execution_count": 1,
   "metadata": {
    "collapsed": true
   },
   "outputs": [],
   "source": [
    "import pandas as pd\n",
    "import xlsxwriter as ex"
   ]
  },
  {
   "cell_type": "code",
   "execution_count": 3,
   "metadata": {
    "collapsed": false
   },
   "outputs": [
    {
     "name": "stdout",
     "output_type": "stream",
     "text": [
      "/home/bbardak/Desktop/Tez/MultipleDisease/sonson/correlations/google_trend/All_disease/normalized\n"
     ]
    }
   ],
   "source": [
    "%cd normalized/\n",
    "workbook = ex.Workbook('haemophilus_normalized.xlsx')\n",
    "worksheet = workbook.add_worksheet()"
   ]
  },
  {
   "cell_type": "code",
   "execution_count": 5,
   "metadata": {
    "collapsed": false
   },
   "outputs": [
    {
     "name": "stdout",
     "output_type": "stream",
     "text": [
      "/home/bbardak/Desktop/Tez/MultipleDisease/sonson/correlations/google_trend/All_disease\n"
     ]
    }
   ],
   "source": [
    "#cdc_flu_list = pd.read_csv('en_flu_2011-01-01_2014-01-04.csv', header=None)\n",
    "%cd ../\n",
    "cdc_other_disease_data = pd.read_csv('Haemophilus.csv')"
   ]
  },
  {
   "cell_type": "code",
   "execution_count": 6,
   "metadata": {
    "collapsed": true
   },
   "outputs": [],
   "source": [
    "flu_max_rate = 1\n",
    "flu_min_rate = 0"
   ]
  },
  {
   "cell_type": "code",
   "execution_count": 7,
   "metadata": {
    "collapsed": false
   },
   "outputs": [
    {
     "ename": "ValueError",
     "evalue": "invalid literal for float(): influenza",
     "output_type": "error",
     "traceback": [
      "\u001b[1;31m---------------------------------------------------------------------------\u001b[0m",
      "\u001b[1;31mValueError\u001b[0m                                Traceback (most recent call last)",
      "\u001b[1;32m<ipython-input-7-97fe69dd5ab5>\u001b[0m in \u001b[0;36m<module>\u001b[1;34m()\u001b[0m\n\u001b[0;32m      5\u001b[0m         \u001b[0mcolumn\u001b[0m \u001b[1;33m=\u001b[0m \u001b[0mcolumn\u001b[0m \u001b[1;33m+\u001b[0m \u001b[1;36m1\u001b[0m\u001b[1;33m\u001b[0m\u001b[0m\n\u001b[0;32m      6\u001b[0m         \u001b[0mrow\u001b[0m \u001b[1;33m=\u001b[0m \u001b[1;36m0\u001b[0m\u001b[1;33m\u001b[0m\u001b[0m\n\u001b[1;32m----> 7\u001b[1;33m         \u001b[0mnormalized_list\u001b[0m \u001b[1;33m=\u001b[0m \u001b[0mnormalize_between_2_range\u001b[0m\u001b[1;33m(\u001b[0m\u001b[0mcdc_other_disease_data\u001b[0m\u001b[1;33m[\u001b[0m\u001b[0mi\u001b[0m\u001b[1;33m]\u001b[0m\u001b[1;33m,\u001b[0m \u001b[0mflu_min_rate\u001b[0m\u001b[1;33m,\u001b[0m \u001b[0mflu_max_rate\u001b[0m\u001b[1;33m)\u001b[0m\u001b[1;33m\u001b[0m\u001b[0m\n\u001b[0m\u001b[0;32m      8\u001b[0m         \u001b[1;32mfor\u001b[0m \u001b[0mj\u001b[0m \u001b[1;32min\u001b[0m \u001b[0mnormalized_list\u001b[0m\u001b[1;33m:\u001b[0m\u001b[1;33m\u001b[0m\u001b[0m\n\u001b[0;32m      9\u001b[0m             \u001b[1;32mprint\u001b[0m \u001b[0mj\u001b[0m\u001b[1;33m\u001b[0m\u001b[0m\n",
      "\u001b[1;32m<ipython-input-2-3abb80868815>\u001b[0m in \u001b[0;36mnormalize_between_2_range\u001b[1;34m(alist, A, B)\u001b[0m\n\u001b[0;32m     11\u001b[0m     \u001b[0mA\u001b[0m \u001b[1;33m=\u001b[0m \u001b[0mfloat\u001b[0m\u001b[1;33m(\u001b[0m\u001b[0mA\u001b[0m\u001b[1;33m)\u001b[0m\u001b[1;33m\u001b[0m\u001b[0m\n\u001b[0;32m     12\u001b[0m     \u001b[0mB\u001b[0m \u001b[1;33m=\u001b[0m \u001b[0mfloat\u001b[0m\u001b[1;33m(\u001b[0m\u001b[0mB\u001b[0m\u001b[1;33m)\u001b[0m\u001b[1;33m\u001b[0m\u001b[0m\n\u001b[1;32m---> 13\u001b[1;33m     \u001b[0mmax_value_of_alist\u001b[0m \u001b[1;33m=\u001b[0m \u001b[0mfloat\u001b[0m\u001b[1;33m(\u001b[0m\u001b[0mmax_value_of_alist\u001b[0m\u001b[1;33m)\u001b[0m\u001b[1;33m\u001b[0m\u001b[0m\n\u001b[0m\u001b[0;32m     14\u001b[0m     \u001b[0mmin_value_of_alist\u001b[0m \u001b[1;33m=\u001b[0m \u001b[0mfloat\u001b[0m\u001b[1;33m(\u001b[0m\u001b[0mmin_value_of_alist\u001b[0m\u001b[1;33m)\u001b[0m\u001b[1;33m\u001b[0m\u001b[0m\n\u001b[0;32m     15\u001b[0m \u001b[1;33m\u001b[0m\u001b[0m\n",
      "\u001b[1;31mValueError\u001b[0m: invalid literal for float(): influenza"
     ]
    }
   ],
   "source": [
    "column = 0\n",
    "\n",
    "for i in cdc_other_disease_data.columns:\n",
    "    if i != 'Week':\n",
    "        column = column + 1\n",
    "        row = 0\n",
    "        normalized_list = normalize_between_2_range(cdc_other_disease_data[i], flu_min_rate, flu_max_rate)\n",
    "        for j in normalized_list:\n",
    "            print j\n",
    "            worksheet.write(row,column,j)\n",
    "            row = row + 1\n",
    "workbook.close()"
   ]
  },
  {
   "cell_type": "code",
   "execution_count": 2,
   "metadata": {
    "collapsed": true
   },
   "outputs": [],
   "source": [
    "def normalize_between_2_range(alist, A ,B):\n",
    "    # alist = a list which try to normalized\n",
    "    # A = new min range startint point\n",
    "    # B = new max range ending point\n",
    "    # min = min of alist\n",
    "    # max = max of alist\n",
    "    \n",
    "    temp_list = []\n",
    "    max_value_of_alist = max(alist)\n",
    "    min_value_of_alist = min(alist)\n",
    "    A = float(A)\n",
    "    B = float(B)\n",
    "    print max_value_of_alist\n",
    "    max_value_of_alist = float(max_value_of_alist)\n",
    "    min_value_of_alist = float(min_value_of_alist)\n",
    "    \n",
    "    for value in alist:\n",
    "        newvalue= (B-A)/(max_value_of_alist-min_value_of_alist)*(float(value)-max_value_of_alist)+B\n",
    "        temp_list.append(newvalue)\n",
    "    return temp_list"
   ]
  },
  {
   "cell_type": "code",
   "execution_count": null,
   "metadata": {
    "collapsed": true
   },
   "outputs": [],
   "source": []
  }
 ],
 "metadata": {
  "kernelspec": {
   "display_name": "Python 2",
   "language": "python",
   "name": "python2"
  },
  "language_info": {
   "codemirror_mode": {
    "name": "ipython",
    "version": 2
   },
   "file_extension": ".py",
   "mimetype": "text/x-python",
   "name": "python",
   "nbconvert_exporter": "python",
   "pygments_lexer": "ipython2",
   "version": "2.7.10"
  }
 },
 "nbformat": 4,
 "nbformat_minor": 0
}
