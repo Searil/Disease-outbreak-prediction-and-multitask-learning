{
 "cells": [
  {
   "cell_type": "code",
   "execution_count": 14,
   "metadata": {
    "collapsed": false
   },
   "outputs": [],
   "source": [
    "import sys\n",
    "import os\n",
    "\n"
   ]
  },
  {
   "cell_type": "code",
   "execution_count": 21,
   "metadata": {
    "collapsed": false
   },
   "outputs": [],
   "source": [
    "import xlrd\n",
    "import csv\n",
    "\n",
    "for i in os.listdir('/home/bbardak/Desktop/Tez/MultipleDisease/sonson/correlations/wiki/'):\n",
    "    print i[]\n",
    "    if i[-4:] == 'xlxs':\n",
    "        csv_from_excel(i,i[:-4] + 'csv')\n"
   ]
  },
  {
   "cell_type": "code",
   "execution_count": 22,
   "metadata": {
    "collapsed": true
   },
   "outputs": [],
   "source": [
    "def csv_from_excel(excel_file_name, csv_file_name):\n",
    "\n",
    "    wb = xlrd.open_workbook(excel_file_name)\n",
    "    sh = wb.sheet_by_name('Sheet1')\n",
    "    your_csv_file = open(csv_file_name, 'wb')\n",
    "    wr = csv.writer(your_csv_file, quoting=csv.QUOTE_ALL)\n",
    "\n",
    "    for rownum in xrange(sh.nrows):\n",
    "        wr.writerow(sh.row_values(rownum))\n",
    "\n",
    "    your_csv_file.close()"
   ]
  },
  {
   "cell_type": "code",
   "execution_count": 16,
   "metadata": {
    "collapsed": false
   },
   "outputs": [
    {
     "name": "stdout",
     "output_type": "stream",
     "text": [
      "measles.csv\n",
      "listeriosis.xlsx\n",
      "measles.xlsx\n",
      "meningococcal.xlsx\n",
      "wiki_article_name.txt\n",
      "Haemophilus.xlsx\n",
      "GetWikiData and Save to Excel File.ipynb\n",
      ".ipynb_checkpoints\n",
      "lyme.xlsx\n",
      "typhoid_fever.xlsx\n",
      "hepatitis_A.xlsx\n",
      "listeriosis.csv\n",
      "Legionellosis.xlsx\n",
      "wiki_article_name.txt~\n",
      "Excel to CSV.ipynb\n",
      "meningococcal.csv\n",
      "hepatitis_C.xlsx\n",
      "pertussis.xlsx\n",
      "related_wiki_articles.ods\n",
      "q_fever.xlsx\n",
      "malaria.xlsx\n"
     ]
    }
   ],
   "source": [
    "for i in os.listdir('/home/bbardak/Desktop/Tez/MultipleDisease/sonson/correlations/wiki/'):\n",
    "    print i"
   ]
  },
  {
   "cell_type": "code",
   "execution_count": null,
   "metadata": {
    "collapsed": true
   },
   "outputs": [],
   "source": []
  }
 ],
 "metadata": {
  "kernelspec": {
   "display_name": "Python 2",
   "language": "python",
   "name": "python2"
  },
  "language_info": {
   "codemirror_mode": {
    "name": "ipython",
    "version": 2
   },
   "file_extension": ".py",
   "mimetype": "text/x-python",
   "name": "python",
   "nbconvert_exporter": "python",
   "pygments_lexer": "ipython2",
   "version": "2.7.10"
  }
 },
 "nbformat": 4,
 "nbformat_minor": 0
}
