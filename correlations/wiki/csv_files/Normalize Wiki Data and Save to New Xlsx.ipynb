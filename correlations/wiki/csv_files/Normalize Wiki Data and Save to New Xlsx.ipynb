{
 "cells": [
  {
   "cell_type": "code",
   "execution_count": 3,
   "metadata": {
    "collapsed": true
   },
   "outputs": [],
   "source": [
    "import pandas as pd\n",
    "import numpy as np\n",
    "import xlsxwriter as ex\n",
    "import os"
   ]
  },
  {
   "cell_type": "code",
   "execution_count": 5,
   "metadata": {
    "collapsed": true
   },
   "outputs": [],
   "source": [
    "flu_max_rate = 1\n",
    "flu_min_rate = 0"
   ]
  },
  {
   "cell_type": "code",
   "execution_count": 19,
   "metadata": {
    "collapsed": false
   },
   "outputs": [
    {
     "name": "stdout",
     "output_type": "stream",
     "text": [
      "measles.xlsx\n",
      "Legionellosis.xlsx\n",
      "hepatitis_A.xlsx\n",
      "listeriosis.xlsx\n",
      "hepatitis_C.xlsx\n",
      "Haemophilus.xlsx\n",
      "meningococcal.xlsx\n",
      "malaria.xlsx\n",
      "typhoid_fever.xlsx\n",
      "lyme.xlsx\n",
      "pertussis.xlsx\n",
      "q_fever.xlsx\n"
     ]
    }
   ],
   "source": [
    "for name_of_file in os.listdir('/home/bbardak/Desktop/Tez/MultipleDisease/sonson/correlations/wiki/csv_files/'):\n",
    "    \n",
    "    if name_of_file[-3:] == 'csv':\n",
    "        all_disease_wiki_data = pd.read_csv(name_of_file)\n",
    "        WIKI_STARTING_DATE = []\n",
    "        WIKI_ENDING_DATE = []\n",
    "\n",
    "        for index,i in enumerate(all_disease_wiki_data['date']):\n",
    "            if i == '2011-01-01':\n",
    "                WIKI_STARTING_DATE.append(i)\n",
    "                WIKI_STARTING_DATE.append(index)\n",
    "            if i == '2014-01-10':\n",
    "                WIKI_ENDING_DATE.append(i)\n",
    "                WIKI_ENDING_DATE.append(index)\n",
    "        #a = wiki.groupby(np.arange(len(wiki))//7).sum()\n",
    "\n",
    "        wiki_start_range = WIKI_STARTING_DATE[1]\n",
    "        wiki_end_range = WIKI_ENDING_DATE[1]+1\n",
    "\n",
    "        all_disease_wiki_data = all_disease_wiki_data[wiki_start_range:wiki_end_range].groupby(np.arange(len(all_disease_wiki_data[wiki_start_range:wiki_end_range]))//7).sum()\n",
    "        name_of_excel = name_of_file[:-4]+'.xlsx'\n",
    "        workbook = ex.Workbook(name_of_excel)\n",
    "        worksheet = workbook.add_worksheet()\n",
    "        column = 0\n",
    "\n",
    "        for i in all_disease_wiki_data.columns:\n",
    "            if i != 'date':\n",
    "                column = column + 1\n",
    "                row = 0\n",
    "                normalized_list = normalize_between_2_range(all_disease_wiki_data[i], flu_min_rate, flu_max_rate)\n",
    "                for j in normalized_list:\n",
    "                    worksheet.write(row,column,j)\n",
    "                    row = row + 1\n",
    "        workbook.close()"
   ]
  },
  {
   "cell_type": "code",
   "execution_count": 6,
   "metadata": {
    "collapsed": true
   },
   "outputs": [],
   "source": [
    "def normalize_between_2_range(alist, A ,B):\n",
    "    # alist = a list which try to normalized\n",
    "    # A = new min range startint point\n",
    "    # B = new max range ending point\n",
    "    # min = min of alist\n",
    "    # max = max of alist\n",
    "    \n",
    "    temp_list = []\n",
    "    max_value_of_alist = max(alist)\n",
    "    min_value_of_alist = min(alist)\n",
    "    A = float(A)\n",
    "    B = float(B)\n",
    "    max_value_of_alist = float(max_value_of_alist)\n",
    "    min_value_of_alist = float(min_value_of_alist)\n",
    "    \n",
    "    for value in alist:\n",
    "        newvalue= (B-A)/(max_value_of_alist-min_value_of_alist)*(float(value)-max_value_of_alist)+B\n",
    "        temp_list.append(newvalue)\n",
    "    return temp_list"
   ]
  },
  {
   "cell_type": "code",
   "execution_count": null,
   "metadata": {
    "collapsed": true
   },
   "outputs": [],
   "source": []
  }
 ],
 "metadata": {
  "kernelspec": {
   "display_name": "Python 2",
   "language": "python",
   "name": "python2"
  },
  "language_info": {
   "codemirror_mode": {
    "name": "ipython",
    "version": 2
   },
   "file_extension": ".py",
   "mimetype": "text/x-python",
   "name": "python",
   "nbconvert_exporter": "python",
   "pygments_lexer": "ipython2",
   "version": "2.7.10"
  }
 },
 "nbformat": 4,
 "nbformat_minor": 0
}
