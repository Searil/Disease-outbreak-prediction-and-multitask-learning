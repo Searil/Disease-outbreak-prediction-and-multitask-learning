{
 "cells": [
  {
   "cell_type": "markdown",
   "metadata": {},
   "source": [
    "Haemophilus\n",
    "-------------\n",
    "3 -gt , 7 wiki\n",
    "wiki = 7 11 8 olmayacak\n",
    "\n",
    "\n",
    "Hepatitis A\n",
    "-------------\n",
    "3 - gt , 7 wiki\n",
    "\n",
    "wiki = 6 9 10 olmayacak\n",
    "\n",
    "Hepatitis C\n",
    "-------------\n",
    "5 - gt , 5 wiki\n",
    "wiki = 9 6 2 11 5 olmayacak\n",
    "\n",
    "Legionellos (atladık google trend datası yok)\n",
    "-------------\n",
    "\n",
    "Lyme\n",
    "-----\n",
    "4 - gt, 6 wiki\n",
    "wiki = 5 7 8 9 olmayacak\n",
    "\n",
    "Listerosis\n",
    "------------\n",
    "3 - gt, 7 wiki\n",
    "wiki = 8 9 10 olmayacak\n",
    "\n",
    "Malaria\n",
    "---------\n",
    "5 - gt, 5 wiki\n",
    "wiki = 8 3 11 9 6 olmayacak\n",
    "\n",
    "Pertussis\n",
    "----------\n",
    "4 gt , 6 wiki\n",
    "wiki = 7 9 11 3\n",
    "\n",
    "q-fever\n",
    "--------\n",
    "2 gt, 8 wiki\n",
    "wiki = 7 3 olmayacak\n",
    "\n",
    "typhoid-fever\n",
    "---------------\n",
    "4 gt, 6 wiki\n",
    "wiki = 4 6 8 10\n",
    "\n",
    "Measles\n",
    "---------\n",
    "\n",
    "4gt, 6 wiki\n",
    "wiki = 3 5 8 11 olmayacak\n"
   ]
  },
  {
   "cell_type": "markdown",
   "metadata": {},
   "source": [
    "2011-01-02 - 2011-01-08\n",
    "\n",
    "2014-01-05 - 2014-01-11\n",
    "\n",
    "arası gt'leri al (iki tarihte dahil)"
   ]
  },
  {
   "cell_type": "code",
   "execution_count": null,
   "metadata": {
    "collapsed": true
   },
   "outputs": [],
   "source": []
  }
 ],
 "metadata": {
  "kernelspec": {
   "display_name": "Python 2",
   "language": "python",
   "name": "python2"
  },
  "language_info": {
   "codemirror_mode": {
    "name": "ipython",
    "version": 2
   },
   "file_extension": ".py",
   "mimetype": "text/x-python",
   "name": "python",
   "nbconvert_exporter": "python",
   "pygments_lexer": "ipython2",
   "version": "2.7.10"
  }
 },
 "nbformat": 4,
 "nbformat_minor": 0
}
