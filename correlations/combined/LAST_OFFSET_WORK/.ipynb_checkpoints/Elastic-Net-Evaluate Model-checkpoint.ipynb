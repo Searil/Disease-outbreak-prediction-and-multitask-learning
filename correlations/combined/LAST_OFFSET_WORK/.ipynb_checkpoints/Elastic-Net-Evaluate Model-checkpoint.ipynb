{
 "cells": [
  {
   "cell_type": "code",
   "execution_count": 134,
   "metadata": {
    "collapsed": true
   },
   "outputs": [],
   "source": [
    "import pandas as pd \n",
    "import numpy as np\n",
    "import scipy\n",
    "from scipy.stats import pearsonr\n",
    "from sklearn import preprocessing\n",
    "import scipy.sparse as sp\n",
    "from sklearn.metrics import r2_score, mean_absolute_error, mean_squared_error, accuracy_score\n",
    "from sklearn.linear_model import ElasticNet\n",
    "from sklearn.grid_search import GridSearchCV, RandomizedSearchCV\n",
    "from sklearn import cross_validation\n",
    "import xlsxwriter\n",
    "from sklearn import linear_model, grid_search, datasets\n",
    "import warnings\n",
    "warnings.filterwarnings('ignore')"
   ]
  },
  {
   "cell_type": "markdown",
   "metadata": {},
   "source": [
    "#### Haemophilus"
   ]
  },
  {
   "cell_type": "code",
   "execution_count": 104,
   "metadata": {
    "collapsed": false
   },
   "outputs": [
    {
     "name": "stdout",
     "output_type": "stream",
     "text": [
      "/home/tanlab1/Desktop/MultipleDisease/sonsonson/correlations/combined/LAST_OFFSET_WORK/Other_disease_WIKI_161_week\n"
     ]
    }
   ],
   "source": [
    "## Other disease Wikipedia Data\n",
    "\n",
    "%cd /home/tanlab1/Desktop/MultipleDisease/sonsonson/correlations/combined/LAST_OFFSET_WORK/Other_disease_WIKI_161_week/\n",
    "\n",
    "wiki_train_data = pd.read_csv(\"Haemophilus.csv\")\n",
    "weekly_data = wiki_train_data[21:].groupby(np.arange(len(wiki_train_data[21:]))//7).sum()\n",
    "article_names = ['Haemophilus',\n",
    "'Haemophilus_influenzae',\n",
    "'Gram-negative_bacteria',\n",
    "'Facultative_anaerobic_organism',\n",
    "'Epiglottitis',\n",
    "'Cellulitis',\n",
    "'Meningitis',\n",
    "'Pathogenic_bacteria',\n",
    "'Hib_vaccine',\n",
    "'Osteomyelitis'\n",
    "]\n",
    "selected_wiki_articles = ['Haemophilus','Haemophilus_influenzae','Gram-negative_bacteria',\n",
    "                          'Facultative_anaerobic_organism','Epiglottitis','Hib_vaccine','Osteomyelitis']\n",
    "other_disease_normalized_weekly_wiki_data = pd.DataFrame()\n",
    "for i in weekly_data:\n",
    "    # Create x, where x the 'scores' column's values as floats\n",
    "    x = weekly_data[i].values.astype(float)\n",
    "    # Create a minimum and maximum processor object\n",
    "    min_max_scaler = preprocessing.MinMaxScaler()\n",
    "    # Create an object to transform the data to fit minmax processor\n",
    "    x_scaled = min_max_scaler.fit_transform(x)\n",
    "    # Run the normalizer on the dataframe\n",
    "    df_normalized = pd.DataFrame(x_scaled)\n",
    "    other_disease_normalized_weekly_wiki_data = pd.concat([other_disease_normalized_weekly_wiki_data, df_normalized], axis=1)\n",
    "other_disease_normalized_weekly_wiki_data.columns=article_names\n",
    "other_disease_normalized_weekly_wiki_data = result[selected_wiki_articles]"
   ]
  },
  {
   "cell_type": "code",
   "execution_count": 105,
   "metadata": {
    "collapsed": false
   },
   "outputs": [
    {
     "name": "stdout",
     "output_type": "stream",
     "text": [
      "/home/tanlab1/Desktop/MultipleDisease/sonsonson/correlations/combined/LAST_OFFSET_WORK/Other_Disease_GT_normalized_csv_160_week\n"
     ]
    }
   ],
   "source": [
    "## Other disease Google Trend Dataset\n",
    "\n",
    "%cd /home/tanlab1/Desktop/MultipleDisease/sonsonson/correlations/combined/LAST_OFFSET_WORK/Other_Disease_GT_normalized_csv_160_week/\n",
    "gt_train_data = pd.read_csv(\"haemophilus_normalized.csv\",header=None)\n",
    "gt_train_data = gt_train_data[2:]"
   ]
  },
  {
   "cell_type": "code",
   "execution_count": 106,
   "metadata": {
    "collapsed": false
   },
   "outputs": [
    {
     "name": "stdout",
     "output_type": "stream",
     "text": [
      "/home/tanlab1/Desktop/MultipleDisease/sonsonson/correlations/combined/LAST_OFFSET_WORK/Flu_WIKI_161_week\n"
     ]
    }
   ],
   "source": [
    "## Flu disease Wiki Dataset\n",
    "\n",
    "flu_article_names = ['en-Common_cold',\n",
    "                     'en-Human_flu',\n",
    "                     'en-Influenza',\n",
    "                     'en-Influenza-like_illness',\n",
    "                     'en-Influenza_A_virus',\n",
    "                     'en-Influenza_A_virus_subtype_H1N1',\n",
    "                     'en-Influenzavirus_A',\n",
    "                     'en-Influenzavirus_C',\n",
    "                     'en-Oseltamivir',\n",
    "                     'en-Zanamivir']\n",
    "\n",
    "%cd /home/tanlab1/Desktop/MultipleDisease/sonsonson/correlations/combined/LAST_OFFSET_WORK/Flu_WIKI_161_week/\n",
    "flu_wiki_data = pd.read_csv(\"top10_Flu_daily_wiki_data_161_week.csv\")\n",
    "flu_weekly_wiki_data = flu_wiki_data[21:].groupby(np.arange(len(flu_wiki_data[21:]))//7).sum()\n",
    "normalized_flu_weekly = pd.DataFrame()\n",
    "for i in flu_weekly_wiki_data:\n",
    "    # Create x, where x the 'scores' column's values as floats\n",
    "    x = flu_weekly_wiki_data[i].values.astype(float)\n",
    "    # Create a minimum and maximum processor object\n",
    "    min_max_scaler = preprocessing.MinMaxScaler()\n",
    "    # Create an object to transform the data to fit minmax processor\n",
    "    x_scaled = min_max_scaler.fit_transform(x)\n",
    "    # Run the normalizer on the dataframe\n",
    "    df_normalized = pd.DataFrame(x_scaled)\n",
    "    normalized_flu_weekly = pd.concat([normalized_flu_weekly, df_normalized], axis=1)\n",
    "normalized_flu_weekly.columns=flu_article_names"
   ]
  },
  {
   "cell_type": "code",
   "execution_count": 119,
   "metadata": {
    "collapsed": false
   },
   "outputs": [
    {
     "name": "stdout",
     "output_type": "stream",
     "text": [
      "/home/tanlab1/Desktop/MultipleDisease/sonsonson/correlations/combined/LAST_OFFSET_WORK/Flu_GFT_DATA_160_week\n"
     ]
    }
   ],
   "source": [
    "## Flu disease Google Flu Trend Dataset\n",
    "\n",
    "%cd /home/tanlab1/Desktop/MultipleDisease/sonsonson/correlations/combined/LAST_OFFSET_WORK/Flu_GFT_DATA_160_week/\n",
    "flu_google_flu_trend_data = pd.read_csv(\"GFT_160week.csv\")\n",
    "flu_google_flu_trend_data = flu_google_flu_trend_data[2:]"
   ]
  },
  {
   "cell_type": "code",
   "execution_count": 120,
   "metadata": {
    "collapsed": false
   },
   "outputs": [
    {
     "name": "stdout",
     "output_type": "stream",
     "text": [
      "(158, 50)\n"
     ]
    }
   ],
   "source": [
    "## Combination of all training datasets\n",
    "\n",
    "c1 = sp.csr_matrix(result)\n",
    "c2 = sp.csr_matrix(gt_train_data)\n",
    "c3 = sp.csr_matrix(normalized_flu_weekly)\n",
    "c4 = sp.csr_matrix(flu_google_flu_trend_data)\n",
    "h = sp.hstack((c1, c2,c3,c4), format='csr')\n",
    "train_data = h.A\n",
    "print train_data.shape"
   ]
  },
  {
   "cell_type": "code",
   "execution_count": 125,
   "metadata": {
    "collapsed": false
   },
   "outputs": [
    {
     "name": "stdout",
     "output_type": "stream",
     "text": [
      "/home/tanlab1/Desktop/MultipleDisease/sonsonson/correlations/combined/LAST_OFFSET_WORK\n"
     ]
    },
    {
     "data": {
      "text/plain": [
       "(158, 2)"
      ]
     },
     "execution_count": 125,
     "metadata": {},
     "output_type": "execute_result"
    }
   ],
   "source": [
    "## Observed Data Set\n",
    "\n",
    "%cd /home/tanlab1/Desktop/MultipleDisease/sonsonson/correlations/combined/LAST_OFFSET_WORK/\n",
    "observation_data = pd.read_csv(\"ALL_OBSERVATION_DATA.csv\")\n",
    "selected_observation_disease = ['Flu', 'Haemophilus']\n",
    "other_disease_normalized_weekly_wiki_data = result[selected_wiki_articles]\n",
    "observation_data = observation_data[selected_observation_disease]"
   ]
  },
  {
   "cell_type": "code",
   "execution_count": 137,
   "metadata": {
    "collapsed": false
   },
   "outputs": [
    {
     "name": "stdout",
     "output_type": "stream",
     "text": [
      "[[ 0.98595259  2.89277905]\n",
      " [ 4.9118997   4.63513409]\n",
      " [ 1.47442142  3.09379412]\n",
      " [ 1.11988439  2.94237758]\n",
      " [ 1.31922567  3.14577642]\n",
      " [ 1.29912295  3.03995798]\n",
      " [ 1.30324943  3.07264259]\n",
      " [ 2.09111419  3.22723984]\n",
      " [ 1.32237416  3.04607389]\n",
      " [ 1.63723835  3.27237715]\n",
      " [ 2.57210998  3.64317315]\n",
      " [ 1.56549709  3.26989467]\n",
      " [ 4.02772208  4.26558835]\n",
      " [ 1.64826254  3.2775854 ]\n",
      " [ 2.04434379  3.27882158]\n",
      " [ 1.19717958  3.04440706]\n",
      " [ 1.37265416  3.07710404]\n",
      " [ 1.8130997   3.23683262]\n",
      " [ 1.41377039  3.05656749]\n",
      " [ 1.19955997  3.06597822]\n",
      " [ 2.18172083  3.25098624]\n",
      " [ 0.96163014  2.87133896]\n",
      " [ 1.18447534  3.09269705]\n",
      " [ 3.40139642  3.53547832]\n",
      " [ 1.27840143  3.12294603]\n",
      " [ 0.94132829  2.88346247]\n",
      " [ 1.39420729  3.07457664]\n",
      " [ 1.11617412  2.97966499]\n",
      " [ 2.25963938  3.35411144]\n",
      " [ 1.40810943  3.16731136]\n",
      " [ 1.88861518  3.31306767]\n",
      " [ 3.26143554  3.66760485]\n",
      " [ 0.99702375  2.95863236]\n",
      " [ 1.4127212   3.0863532 ]\n",
      " [ 1.19476159  3.09978471]\n",
      " [ 1.08196139  2.93181619]\n",
      " [ 1.24260793  3.01103366]\n",
      " [ 3.46469734  3.93106221]\n",
      " [ 0.93450741  2.85876184]\n",
      " [ 1.6722564   3.28581728]\n",
      " [ 1.87798526  3.2524196 ]\n",
      " [ 0.99936418  2.95155987]\n",
      " [ 1.07813477  2.99719367]\n",
      " [ 1.82664163  3.1681046 ]\n",
      " [ 1.61344804  3.17176336]\n",
      " [ 3.60345741  3.93981411]\n",
      " [ 0.9563788   2.90020578]\n",
      " [ 1.53732563  3.09229233]]           Flu  Haemophilus\n",
      "29   0.631883     2.412753\n",
      "107  4.509201     3.077320\n",
      "14   1.613771     4.406454\n",
      "81   0.924199     2.523514\n",
      "124  1.071881     5.292544\n",
      "19   1.121940     4.184932\n",
      "73   1.230280     1.637425\n",
      "11   2.615419     3.631126\n",
      "40   1.160924     2.966559\n",
      "95   1.378521     1.969708\n",
      "100  2.159380     4.406454\n",
      "92   1.219960     2.412753\n",
      "108  4.215188     4.184932\n",
      "94   1.336771     3.298842\n",
      "58   1.919942     3.631126\n",
      "88   1.220708     3.298842\n",
      "42   1.279263     3.077320\n",
      "53   1.736249     3.741887\n",
      "51   1.831262     4.406454\n",
      "145  1.282076     3.298842\n",
      "59   2.099512     4.074171\n",
      "35   0.804155     2.412753\n",
      "143  1.247090     2.412753\n",
      "5    4.551592     3.077320\n",
      "126  1.048277     3.188081\n",
      "31   0.529813     3.077320\n",
      "16   1.338205     3.188081\n",
      "78   1.106161     2.412753\n",
      "118  1.658530     2.855798\n",
      "91   1.293933     1.748186\n",
      "120  1.276244     4.295693\n",
      "156  4.658705     2.966559\n",
      "135  0.727840     2.191231\n",
      "44   1.428244     3.188081\n",
      "127  0.922108     4.517215\n",
      "85   0.848456     2.634275\n",
      "77   1.110308     2.191231\n",
      "103  4.315074     3.631126\n",
      "33   0.667718     2.966559\n",
      "152  2.086402     2.191231\n",
      "56   1.760384     2.412753\n",
      "136  0.758596     2.966559\n",
      "132  0.740747     3.298842\n",
      "12   2.090648     3.741887\n",
      "54   1.550664     4.074171\n",
      "104  6.067872     4.074171\n",
      "28   0.674635     3.631126\n",
      "69   1.295146     2.745037\n"
     ]
    },
    {
     "ename": "TypeError",
     "evalue": "unhashable type",
     "output_type": "error",
     "traceback": [
      "\u001b[1;31m---------------------------------------------------------------------------\u001b[0m",
      "\u001b[1;31mTypeError\u001b[0m                                 Traceback (most recent call last)",
      "\u001b[1;32m<ipython-input-137-450bcf2b92a1>\u001b[0m in \u001b[0;36m<module>\u001b[1;34m()\u001b[0m\n\u001b[1;32m----> 1\u001b[1;33m \u001b[0ma\u001b[0m\u001b[1;33m,\u001b[0m\u001b[0mb\u001b[0m\u001b[1;33m,\u001b[0m\u001b[0mc\u001b[0m\u001b[1;33m,\u001b[0m\u001b[0md\u001b[0m \u001b[1;33m=\u001b[0m \u001b[0mgetScore\u001b[0m\u001b[1;33m(\u001b[0m\u001b[0mtrain_data\u001b[0m\u001b[1;33m,\u001b[0m \u001b[0mobservation_data\u001b[0m\u001b[1;33m,\u001b[0m\u001b[1;36m2\u001b[0m\u001b[1;33m)\u001b[0m\u001b[1;33m\u001b[0m\u001b[0m\n\u001b[0m",
      "\u001b[1;32m<ipython-input-136-d8935497942c>\u001b[0m in \u001b[0;36mgetScore\u001b[1;34m(X, y, numberOfDisease)\u001b[0m\n\u001b[0;32m     27\u001b[0m         \u001b[1;32mfor\u001b[0m \u001b[0mi\u001b[0m \u001b[1;32min\u001b[0m \u001b[0mrange\u001b[0m\u001b[1;33m(\u001b[0m\u001b[1;36m0\u001b[0m\u001b[1;33m,\u001b[0m\u001b[0mnumberOfDisease\u001b[0m\u001b[1;33m)\u001b[0m\u001b[1;33m:\u001b[0m\u001b[1;33m\u001b[0m\u001b[0m\n\u001b[0;32m     28\u001b[0m             \u001b[0ms\u001b[0m \u001b[1;33m+=\u001b[0m \u001b[1;36m1\u001b[0m\u001b[1;33m\u001b[0m\u001b[0m\n\u001b[1;32m---> 29\u001b[1;33m             \u001b[0mr2\u001b[0m\u001b[1;33m.\u001b[0m\u001b[0mappend\u001b[0m\u001b[1;33m(\u001b[0m\u001b[0mr2_score\u001b[0m\u001b[1;33m(\u001b[0m\u001b[0my_test\u001b[0m\u001b[1;33m[\u001b[0m\u001b[1;33m:\u001b[0m\u001b[1;33m,\u001b[0m\u001b[0mi\u001b[0m\u001b[1;33m]\u001b[0m\u001b[1;33m,\u001b[0m \u001b[0mpredictions\u001b[0m\u001b[1;33m[\u001b[0m\u001b[1;33m:\u001b[0m\u001b[1;33m,\u001b[0m\u001b[0mi\u001b[0m\u001b[1;33m]\u001b[0m\u001b[1;33m)\u001b[0m\u001b[1;33m)\u001b[0m\u001b[1;33m\u001b[0m\u001b[0m\n\u001b[0m\u001b[0;32m     30\u001b[0m             \u001b[0mmse\u001b[0m\u001b[1;33m.\u001b[0m\u001b[0mappend\u001b[0m\u001b[1;33m(\u001b[0m\u001b[0mmean_squared_error\u001b[0m\u001b[1;33m(\u001b[0m\u001b[0my_test\u001b[0m\u001b[1;33m[\u001b[0m\u001b[1;33m:\u001b[0m\u001b[1;33m,\u001b[0m\u001b[0mi\u001b[0m\u001b[1;33m]\u001b[0m\u001b[1;33m,\u001b[0m \u001b[0mpredictions\u001b[0m\u001b[1;33m[\u001b[0m\u001b[1;33m:\u001b[0m\u001b[1;33m,\u001b[0m\u001b[0mi\u001b[0m\u001b[1;33m]\u001b[0m\u001b[1;33m)\u001b[0m\u001b[1;33m)\u001b[0m\u001b[1;33m\u001b[0m\u001b[0m\n\u001b[0;32m     31\u001b[0m             \u001b[0mmae\u001b[0m\u001b[1;33m.\u001b[0m\u001b[0mappend\u001b[0m\u001b[1;33m(\u001b[0m\u001b[0mmean_absolute_error\u001b[0m\u001b[1;33m(\u001b[0m\u001b[0my_test\u001b[0m\u001b[1;33m[\u001b[0m\u001b[1;33m:\u001b[0m\u001b[1;33m,\u001b[0m\u001b[0mi\u001b[0m\u001b[1;33m]\u001b[0m\u001b[1;33m,\u001b[0m \u001b[0mpredictions\u001b[0m\u001b[1;33m[\u001b[0m\u001b[1;33m:\u001b[0m\u001b[1;33m,\u001b[0m\u001b[0mi\u001b[0m\u001b[1;33m]\u001b[0m\u001b[1;33m)\u001b[0m\u001b[1;33m)\u001b[0m\u001b[1;33m\u001b[0m\u001b[0m\n",
      "\u001b[1;32m/home/tanlab1/anaconda2/lib/python2.7/site-packages/pandas/core/frame.pyc\u001b[0m in \u001b[0;36m__getitem__\u001b[1;34m(self, key)\u001b[0m\n\u001b[0;32m   1912\u001b[0m             \u001b[1;32mreturn\u001b[0m \u001b[0mself\u001b[0m\u001b[1;33m.\u001b[0m\u001b[0m_getitem_multilevel\u001b[0m\u001b[1;33m(\u001b[0m\u001b[0mkey\u001b[0m\u001b[1;33m)\u001b[0m\u001b[1;33m\u001b[0m\u001b[0m\n\u001b[0;32m   1913\u001b[0m         \u001b[1;32melse\u001b[0m\u001b[1;33m:\u001b[0m\u001b[1;33m\u001b[0m\u001b[0m\n\u001b[1;32m-> 1914\u001b[1;33m             \u001b[1;32mreturn\u001b[0m \u001b[0mself\u001b[0m\u001b[1;33m.\u001b[0m\u001b[0m_getitem_column\u001b[0m\u001b[1;33m(\u001b[0m\u001b[0mkey\u001b[0m\u001b[1;33m)\u001b[0m\u001b[1;33m\u001b[0m\u001b[0m\n\u001b[0m\u001b[0;32m   1915\u001b[0m \u001b[1;33m\u001b[0m\u001b[0m\n\u001b[0;32m   1916\u001b[0m     \u001b[1;32mdef\u001b[0m \u001b[0m_getitem_column\u001b[0m\u001b[1;33m(\u001b[0m\u001b[0mself\u001b[0m\u001b[1;33m,\u001b[0m \u001b[0mkey\u001b[0m\u001b[1;33m)\u001b[0m\u001b[1;33m:\u001b[0m\u001b[1;33m\u001b[0m\u001b[0m\n",
      "\u001b[1;32m/home/tanlab1/anaconda2/lib/python2.7/site-packages/pandas/core/frame.pyc\u001b[0m in \u001b[0;36m_getitem_column\u001b[1;34m(self, key)\u001b[0m\n\u001b[0;32m   1919\u001b[0m         \u001b[1;31m# get column\u001b[0m\u001b[1;33m\u001b[0m\u001b[1;33m\u001b[0m\u001b[0m\n\u001b[0;32m   1920\u001b[0m         \u001b[1;32mif\u001b[0m \u001b[0mself\u001b[0m\u001b[1;33m.\u001b[0m\u001b[0mcolumns\u001b[0m\u001b[1;33m.\u001b[0m\u001b[0mis_unique\u001b[0m\u001b[1;33m:\u001b[0m\u001b[1;33m\u001b[0m\u001b[0m\n\u001b[1;32m-> 1921\u001b[1;33m             \u001b[1;32mreturn\u001b[0m \u001b[0mself\u001b[0m\u001b[1;33m.\u001b[0m\u001b[0m_get_item_cache\u001b[0m\u001b[1;33m(\u001b[0m\u001b[0mkey\u001b[0m\u001b[1;33m)\u001b[0m\u001b[1;33m\u001b[0m\u001b[0m\n\u001b[0m\u001b[0;32m   1922\u001b[0m \u001b[1;33m\u001b[0m\u001b[0m\n\u001b[0;32m   1923\u001b[0m         \u001b[1;31m# duplicate columns & possible reduce dimensionaility\u001b[0m\u001b[1;33m\u001b[0m\u001b[1;33m\u001b[0m\u001b[0m\n",
      "\u001b[1;32m/home/tanlab1/anaconda2/lib/python2.7/site-packages/pandas/core/generic.pyc\u001b[0m in \u001b[0;36m_get_item_cache\u001b[1;34m(self, item)\u001b[0m\n\u001b[0;32m   1086\u001b[0m         \u001b[1;34m\"\"\" return the cached item, item represents a label indexer \"\"\"\u001b[0m\u001b[1;33m\u001b[0m\u001b[0m\n\u001b[0;32m   1087\u001b[0m         \u001b[0mcache\u001b[0m \u001b[1;33m=\u001b[0m \u001b[0mself\u001b[0m\u001b[1;33m.\u001b[0m\u001b[0m_item_cache\u001b[0m\u001b[1;33m\u001b[0m\u001b[0m\n\u001b[1;32m-> 1088\u001b[1;33m         \u001b[0mres\u001b[0m \u001b[1;33m=\u001b[0m \u001b[0mcache\u001b[0m\u001b[1;33m.\u001b[0m\u001b[0mget\u001b[0m\u001b[1;33m(\u001b[0m\u001b[0mitem\u001b[0m\u001b[1;33m)\u001b[0m\u001b[1;33m\u001b[0m\u001b[0m\n\u001b[0m\u001b[0;32m   1089\u001b[0m         \u001b[1;32mif\u001b[0m \u001b[0mres\u001b[0m \u001b[1;32mis\u001b[0m \u001b[0mNone\u001b[0m\u001b[1;33m:\u001b[0m\u001b[1;33m\u001b[0m\u001b[0m\n\u001b[0;32m   1090\u001b[0m             \u001b[0mvalues\u001b[0m \u001b[1;33m=\u001b[0m \u001b[0mself\u001b[0m\u001b[1;33m.\u001b[0m\u001b[0m_data\u001b[0m\u001b[1;33m.\u001b[0m\u001b[0mget\u001b[0m\u001b[1;33m(\u001b[0m\u001b[0mitem\u001b[0m\u001b[1;33m)\u001b[0m\u001b[1;33m\u001b[0m\u001b[0m\n",
      "\u001b[1;31mTypeError\u001b[0m: unhashable type"
     ]
    }
   ],
   "source": [
    "a,b,c,d = getScore(train_data, observation_data,2)"
   ]
  },
  {
   "cell_type": "code",
   "execution_count": 138,
   "metadata": {
    "collapsed": true
   },
   "outputs": [],
   "source": [
    "def getScore(X,y, numberOfDisease):\n",
    "    data = X\n",
    "    gt = y\n",
    "    r2 = []\n",
    "    mse = []\n",
    "    mae = []\n",
    "    rep = []\n",
    "    parameters = {\"alpha\": [1, 0.1, 0.01, 0.001, 0.0001],\n",
    "                  \"l1_ratio\": [0, 0.25, 0.5,0.75,1],\n",
    "              \"fit_intercept\": [True],\n",
    "              \"max_iter\":[1000],\n",
    "              \"normalize\":[True, False],\n",
    "              \"selection\":['cyclic', 'random'],\n",
    "              \"tol\":[0.0001, 0.001]}\n",
    "    \n",
    "    #cv = cross_validation.KFold(len(train), n_folds=10, shuffle=True)\n",
    "    #for data,gt in cv:\n",
    "       #print data, gt\n",
    "    s = 0\n",
    "    for random_generator in range(1,11):\n",
    "        X_train, X_test, y_train, y_test = cross_validation.train_test_split(data, gt, test_size=0.3, random_state=random_generator)\n",
    "        mtl = linear_model.MultiTaskElasticNet()\n",
    "        grid_search = GridSearchCV(mtl, param_grid=parameters, n_jobs=-1)\n",
    "        grid_search.fit(X_train, y_train)\n",
    "        predictions = grid_search.predict(X_test)\n",
    "        for i in range(0,numberOfDisease):\n",
    "            s += 1\n",
    "            r2.append(r2_score(y_test[:,i], predictions[:,i]))\n",
    "            mse.append(mean_squared_error(y_test[:,i], predictions[:,i]))\n",
    "            mae.append(mean_absolute_error(y_test[:,i], predictions[:,i]))\n",
    "\n",
    "        temp = report(grid_search.grid_scores_)\n",
    "        rep.append(temp)\n",
    "    return r2, mse, mae, rep"
   ]
  },
  {
   "cell_type": "code",
   "execution_count": 127,
   "metadata": {
    "collapsed": true
   },
   "outputs": [],
   "source": [
    "def report(grid_scores, n_top=1):\n",
    "    top_scores = sorted(grid_scores, key=itemgetter(1), reverse=True)[:n_top]\n",
    "    l = []\n",
    "    for i, score in enumerate(top_scores):\n",
    "        \n",
    "        #print(\"Model with rank: {0}\".format(i + 1))\n",
    "        #print(\"Mean validation score: {0:.3f} (std: {1:.3f})\".format(\n",
    "        #     score.mean_validation_score,\n",
    "        #      np.std(score.cv_validation_scores)))\n",
    "        #print(\"Parameters: {0}\".format(score.parameters))\n",
    "        #print(\"\")\n",
    "        l.append(score.mean_validation_score)\n",
    "        l.append(np.std(score.cv_validation_scores))\n",
    "        l.append(score.parameters)\n",
    "    return l"
   ]
  },
  {
   "cell_type": "code",
   "execution_count": null,
   "metadata": {
    "collapsed": true
   },
   "outputs": [],
   "source": []
  }
 ],
 "metadata": {
  "kernelspec": {
   "display_name": "Python 2",
   "language": "python",
   "name": "python2"
  },
  "language_info": {
   "codemirror_mode": {
    "name": "ipython",
    "version": 2
   },
   "file_extension": ".py",
   "mimetype": "text/x-python",
   "name": "python",
   "nbconvert_exporter": "python",
   "pygments_lexer": "ipython2",
   "version": "2.7.10"
  }
 },
 "nbformat": 4,
 "nbformat_minor": 0
}
