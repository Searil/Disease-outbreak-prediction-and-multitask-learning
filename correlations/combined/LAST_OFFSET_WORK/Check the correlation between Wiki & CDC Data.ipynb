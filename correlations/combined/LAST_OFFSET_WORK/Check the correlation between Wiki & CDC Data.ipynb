{
 "cells": [
  {
   "cell_type": "code",
   "execution_count": 13,
   "metadata": {
    "collapsed": true
   },
   "outputs": [],
   "source": [
    "import pandas as pd \n",
    "import xlsxwriter as ex\n",
    "import numpy as np\n",
    "import scipy\n",
    "from scipy.stats import pearsonr\n",
    "from sklearn import preprocessing"
   ]
  },
  {
   "cell_type": "code",
   "execution_count": 2,
   "metadata": {
    "collapsed": false
   },
   "outputs": [
    {
     "name": "stdout",
     "output_type": "stream",
     "text": [
      "/home/tanlab1/Desktop/MultipleDisease/sonsonson/correlations/combined/LAST_OFFSET_WORK/Other_disease_WIKI_161_week\n",
      "Haemophilus.csv  measles.csv\r\n",
      "hepatitis_A.csv  \u001b[0m\u001b[01;34mOther_disease_WIKI_161_week_daily_normalized_csv\u001b[0m/\r\n",
      "hepatitis_C.csv  pertussis.csv\r\n",
      "listeriosis.csv  q_fever.csv\r\n",
      "lyme.csv         typhoid_fever.csv\r\n",
      "malaria.csv\r\n"
     ]
    }
   ],
   "source": [
    "%ls"
   ]
  },
  {
   "cell_type": "code",
   "execution_count": 87,
   "metadata": {
    "collapsed": false
   },
   "outputs": [
    {
     "name": "stdout",
     "output_type": "stream",
     "text": [
      "/home/tanlab1/Desktop/MultipleDisease/sonsonson/correlations/combined/LAST_OFFSET_WORK/Other_disease_WIKI_161_week\n"
     ]
    }
   ],
   "source": [
    "%cd Other_disease_WIKI_161_week/"
   ]
  },
  {
   "cell_type": "code",
   "execution_count": 88,
   "metadata": {
    "collapsed": false
   },
   "outputs": [
    {
     "name": "stdout",
     "output_type": "stream",
     "text": [
      "/home/tanlab1/Desktop/MultipleDisease/sonsonson/correlations/combined/LAST_OFFSET_WORK\n"
     ]
    }
   ],
   "source": [
    "train_data_set = pd.read_csv(\"typhoid_fever.csv\")\n",
    "%cd ..\n",
    "observation_data_set = pd.read_csv(\"ALL_OBSERVATION_DATA.csv\")\n"
   ]
  },
  {
   "cell_type": "code",
   "execution_count": 89,
   "metadata": {
    "collapsed": false
   },
   "outputs": [],
   "source": [
    "weekly_data = train_data_set[21:].groupby(np.arange(len(train_data_set[21:]))//7).sum()"
   ]
  },
  {
   "cell_type": "code",
   "execution_count": 90,
   "metadata": {
    "collapsed": false
   },
   "outputs": [
    {
     "name": "stdout",
     "output_type": "stream",
     "text": [
      "-0.171792891688\n",
      "-0.18052308104\n",
      "0.0911105905914\n",
      "-0.230630377358\n",
      "-0.0399742876891\n",
      "-0.158667673269\n",
      "0.039019977273\n",
      "-0.190755746286\n",
      "0.0940855611126\n",
      "-0.0125300237403\n",
      "Typhoid_fever\n",
      "Gastrointestinal_bleeding\n",
      "Encephalitis\n",
      "Oral_rehydration_therapy\n",
      "Abdominal_pain\n",
      "Fever\n",
      "Salmonella_enterica_subsp._enterica\n",
      "Typhoid_vaccine\n",
      "Bradycardia\n",
      "Malaise\n"
     ]
    }
   ],
   "source": [
    "for i in weekly_data:\n",
    "    print pearsonr(observation_data_set['Typhoid-Fever'],weekly_data[i])[0]\n",
    "for i in weekly_data:\n",
    "    print i"
   ]
  },
  {
   "cell_type": "code",
   "execution_count": 15,
   "metadata": {
    "collapsed": true
   },
   "outputs": [],
   "source": [
    "workbook = ex.Workbook('pearson_results_between_wiki_and_cdc.xlsx')\n",
    "worksheet = workbook.add_worksheet()"
   ]
  },
  {
   "cell_type": "code",
   "execution_count": 17,
   "metadata": {
    "collapsed": false
   },
   "outputs": [
    {
     "name": "stdout",
     "output_type": "stream",
     "text": [
      "Measles Flu\n",
      "Measles Measles\n",
      "Measles Q-Fever\n",
      "Measles Typhoid-Fever\n",
      "Measles Pertussis\n",
      "Measles Meningococcal\n",
      "Measles Listeriosis\n",
      "Measles Malaria\n",
      "Measles Lyme\n",
      "Measles Legionellosis\n",
      "Measles Hepatitis_A\n",
      "Measles Hepatitis_B\n",
      "Measles Hepatitis_C\n",
      "Measles Haemophilus\n",
      "Measles_virus Flu\n",
      "Measles_virus Measles\n",
      "Measles_virus Q-Fever\n",
      "Measles_virus Typhoid-Fever\n",
      "Measles_virus Pertussis\n",
      "Measles_virus Meningococcal\n",
      "Measles_virus Listeriosis\n",
      "Measles_virus Malaria\n",
      "Measles_virus Lyme\n",
      "Measles_virus Legionellosis\n",
      "Measles_virus Hepatitis_A\n",
      "Measles_virus Hepatitis_B\n",
      "Measles_virus Hepatitis_C\n",
      "Measles_virus Haemophilus\n",
      "Measles_vaccine Flu\n",
      "Measles_vaccine Measles\n",
      "Measles_vaccine Q-Fever\n",
      "Measles_vaccine Typhoid-Fever\n",
      "Measles_vaccine Pertussis\n",
      "Measles_vaccine Meningococcal\n",
      "Measles_vaccine Listeriosis\n",
      "Measles_vaccine Malaria\n",
      "Measles_vaccine Lyme\n",
      "Measles_vaccine Legionellosis\n",
      "Measles_vaccine Hepatitis_A\n",
      "Measles_vaccine Hepatitis_B\n",
      "Measles_vaccine Hepatitis_C\n",
      "Measles_vaccine Haemophilus\n",
      "Conjunctivitis Flu\n",
      "Conjunctivitis Measles\n",
      "Conjunctivitis Q-Fever\n",
      "Conjunctivitis Typhoid-Fever\n",
      "Conjunctivitis Pertussis\n",
      "Conjunctivitis Meningococcal\n",
      "Conjunctivitis Listeriosis\n",
      "Conjunctivitis Malaria\n",
      "Conjunctivitis Lyme\n",
      "Conjunctivitis Legionellosis\n",
      "Conjunctivitis Hepatitis_A\n",
      "Conjunctivitis Hepatitis_B\n",
      "Conjunctivitis Hepatitis_C\n",
      "Conjunctivitis Haemophilus\n",
      "Pneumonia Flu\n",
      "Pneumonia Measles\n",
      "Pneumonia Q-Fever\n",
      "Pneumonia Typhoid-Fever\n",
      "Pneumonia Pertussis\n",
      "Pneumonia Meningococcal\n",
      "Pneumonia Listeriosis\n",
      "Pneumonia Malaria\n",
      "Pneumonia Lyme\n",
      "Pneumonia Legionellosis\n",
      "Pneumonia Hepatitis_A\n",
      "Pneumonia Hepatitis_B\n",
      "Pneumonia Hepatitis_C\n",
      "Pneumonia Haemophilus\n",
      "Morbillivirus Flu\n",
      "Morbillivirus Measles\n",
      "Morbillivirus Q-Fever\n",
      "Morbillivirus Typhoid-Fever\n",
      "Morbillivirus Pertussis\n",
      "Morbillivirus Meningococcal\n",
      "Morbillivirus Listeriosis\n",
      "Morbillivirus Malaria\n",
      "Morbillivirus Lyme\n",
      "Morbillivirus Legionellosis\n",
      "Morbillivirus Hepatitis_A\n",
      "Morbillivirus Hepatitis_B\n",
      "Morbillivirus Hepatitis_C\n",
      "Morbillivirus Haemophilus\n",
      "Q_fever Flu\n",
      "Q_fever Measles\n",
      "Q_fever Q-Fever\n",
      "Q_fever Typhoid-Fever\n",
      "Q_fever Pertussis\n",
      "Q_fever Meningococcal\n",
      "Q_fever Listeriosis\n",
      "Q_fever Malaria\n",
      "Q_fever Lyme\n",
      "Q_fever Legionellosis\n",
      "Q_fever Hepatitis_A\n",
      "Q_fever Hepatitis_B\n",
      "Q_fever Hepatitis_C\n",
      "Q_fever Haemophilus\n",
      "Typhoid-fever Flu\n",
      "Typhoid-fever Measles\n",
      "Typhoid-fever Q-Fever\n",
      "Typhoid-fever Typhoid-Fever\n",
      "Typhoid-fever Pertussis\n",
      "Typhoid-fever Meningococcal\n",
      "Typhoid-fever Listeriosis\n",
      "Typhoid-fever Malaria\n",
      "Typhoid-fever Lyme\n",
      "Typhoid-fever Legionellosis\n",
      "Typhoid-fever Hepatitis_A\n",
      "Typhoid-fever Hepatitis_B\n",
      "Typhoid-fever Hepatitis_C\n",
      "Typhoid-fever Haemophilus\n",
      "Pertussis Flu\n",
      "Pertussis Measles\n",
      "Pertussis Q-Fever\n",
      "Pertussis Typhoid-Fever\n",
      "Pertussis Pertussis\n",
      "Pertussis Meningococcal\n",
      "Pertussis Listeriosis\n",
      "Pertussis Malaria\n",
      "Pertussis Lyme\n",
      "Pertussis Legionellosis\n",
      "Pertussis Hepatitis_A\n",
      "Pertussis Hepatitis_B\n",
      "Pertussis Hepatitis_C\n",
      "Pertussis Haemophilus\n",
      "Meningococcal Flu\n",
      "Meningococcal Measles\n",
      "Meningococcal Q-Fever\n",
      "Meningococcal Typhoid-Fever\n",
      "Meningococcal Pertussis\n",
      "Meningococcal Meningococcal\n",
      "Meningococcal Listeriosis\n",
      "Meningococcal Malaria\n",
      "Meningococcal Lyme\n",
      "Meningococcal Legionellosis\n",
      "Meningococcal Hepatitis_A\n",
      "Meningococcal Hepatitis_B\n",
      "Meningococcal Hepatitis_C\n",
      "Meningococcal Haemophilus\n",
      "Listeriosis Flu\n",
      "Listeriosis Measles\n",
      "Listeriosis Q-Fever\n",
      "Listeriosis Typhoid-Fever\n",
      "Listeriosis Pertussis\n",
      "Listeriosis Meningococcal\n",
      "Listeriosis Listeriosis\n",
      "Listeriosis Malaria\n",
      "Listeriosis Lyme\n",
      "Listeriosis Legionellosis\n",
      "Listeriosis Hepatitis_A\n",
      "Listeriosis Hepatitis_B\n",
      "Listeriosis Hepatitis_C\n",
      "Listeriosis Haemophilus\n",
      "Malaria Flu\n",
      "Malaria Measles\n",
      "Malaria Q-Fever\n",
      "Malaria Typhoid-Fever\n",
      "Malaria Pertussis\n",
      "Malaria Meningococcal\n",
      "Malaria Listeriosis\n",
      "Malaria Malaria\n",
      "Malaria Lyme\n",
      "Malaria Legionellosis\n",
      "Malaria Hepatitis_A\n",
      "Malaria Hepatitis_B\n",
      "Malaria Hepatitis_C\n",
      "Malaria Haemophilus\n",
      "Lyme Flu\n",
      "Lyme Measles\n",
      "Lyme Q-Fever\n",
      "Lyme Typhoid-Fever\n",
      "Lyme Pertussis\n",
      "Lyme Meningococcal\n",
      "Lyme Listeriosis\n",
      "Lyme Malaria\n",
      "Lyme Lyme\n",
      "Lyme Legionellosis\n",
      "Lyme Hepatitis_A\n",
      "Lyme Hepatitis_B\n",
      "Lyme Hepatitis_C\n",
      "Lyme Haemophilus\n",
      "Legionnaires Flu\n",
      "Legionnaires Measles\n",
      "Legionnaires Q-Fever\n",
      "Legionnaires Typhoid-Fever\n",
      "Legionnaires Pertussis\n",
      "Legionnaires Meningococcal\n",
      "Legionnaires Listeriosis\n",
      "Legionnaires Malaria\n",
      "Legionnaires Lyme\n",
      "Legionnaires Legionellosis\n",
      "Legionnaires Hepatitis_A\n",
      "Legionnaires Hepatitis_B\n",
      "Legionnaires Hepatitis_C\n",
      "Legionnaires Haemophilus\n",
      "Hepatitis A Flu\n",
      "Hepatitis A Measles\n",
      "Hepatitis A Q-Fever\n",
      "Hepatitis A Typhoid-Fever\n",
      "Hepatitis A Pertussis\n",
      "Hepatitis A Meningococcal\n",
      "Hepatitis A Listeriosis\n",
      "Hepatitis A Malaria\n",
      "Hepatitis A Lyme\n",
      "Hepatitis A Legionellosis\n",
      "Hepatitis A Hepatitis_A\n",
      "Hepatitis A Hepatitis_B\n",
      "Hepatitis A Hepatitis_C\n",
      "Hepatitis A Haemophilus\n",
      "Hepatitis B Flu\n",
      "Hepatitis B Measles\n",
      "Hepatitis B Q-Fever\n",
      "Hepatitis B Typhoid-Fever\n",
      "Hepatitis B Pertussis\n",
      "Hepatitis B Meningococcal\n",
      "Hepatitis B Listeriosis\n",
      "Hepatitis B Malaria\n",
      "Hepatitis B Lyme\n",
      "Hepatitis B Legionellosis\n",
      "Hepatitis B Hepatitis_A\n",
      "Hepatitis B Hepatitis_B\n",
      "Hepatitis B Hepatitis_C\n",
      "Hepatitis B Haemophilus\n",
      "Hepatitis C Flu\n",
      "Hepatitis C Measles\n",
      "Hepatitis C Q-Fever\n",
      "Hepatitis C Typhoid-Fever\n",
      "Hepatitis C Pertussis\n",
      "Hepatitis C Meningococcal\n",
      "Hepatitis C Listeriosis\n",
      "Hepatitis C Malaria\n",
      "Hepatitis C Lyme\n",
      "Hepatitis C Legionellosis\n",
      "Hepatitis C Hepatitis_A\n",
      "Hepatitis C Hepatitis_B\n",
      "Hepatitis C Hepatitis_C\n",
      "Hepatitis C Haemophilus\n",
      "Haemophilus Flu\n",
      "Haemophilus Measles\n",
      "Haemophilus Q-Fever\n",
      "Haemophilus Typhoid-Fever\n",
      "Haemophilus Pertussis\n",
      "Haemophilus Meningococcal\n",
      "Haemophilus Listeriosis\n",
      "Haemophilus Malaria\n",
      "Haemophilus Lyme\n",
      "Haemophilus Legionellosis\n",
      "Haemophilus Hepatitis_A\n",
      "Haemophilus Hepatitis_B\n",
      "Haemophilus Hepatitis_C\n",
      "Haemophilus Haemophilus\n"
     ]
    }
   ],
   "source": [
    "col = 0\n",
    "row = 0\n",
    "for i in wiki_data:\n",
    "    row = 0\n",
    "    for j in cdc_data:\n",
    "        if i != 'Unnamed: 0' and j != 'Date':\n",
    "            print i, j\n",
    "            worksheet.write(row,col,pearsonr(wiki_data[i],cdc_data[j][2:])[0])\n",
    "            row = row + 1\n",
    "    col = col + 1\n",
    "workbook.close()"
   ]
  },
  {
   "cell_type": "code",
   "execution_count": null,
   "metadata": {
    "collapsed": true
   },
   "outputs": [],
   "source": []
  }
 ],
 "metadata": {
  "kernelspec": {
   "display_name": "Python 2",
   "language": "python",
   "name": "python2"
  },
  "language_info": {
   "codemirror_mode": {
    "name": "ipython",
    "version": 2
   },
   "file_extension": ".py",
   "mimetype": "text/x-python",
   "name": "python",
   "nbconvert_exporter": "python",
   "pygments_lexer": "ipython2",
   "version": "2.7.10"
  }
 },
 "nbformat": 4,
 "nbformat_minor": 0
}
