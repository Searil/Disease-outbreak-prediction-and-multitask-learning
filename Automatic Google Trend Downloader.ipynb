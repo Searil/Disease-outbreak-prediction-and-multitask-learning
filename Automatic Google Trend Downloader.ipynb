{
 "cells": [
  {
   "cell_type": "code",
   "execution_count": null,
   "metadata": {
    "collapsed": true
   },
   "outputs": [],
   "source": [
    "import webbrowser\n",
    "import time"
   ]
  },
  {
   "cell_type": "code",
   "execution_count": null,
   "metadata": {
    "collapsed": false
   },
   "outputs": [],
   "source": [
    "URL_start = \"http://www.google.com/trends/trendsReport?&q=\"\n",
    "URL_end = \"&geo=US&date=12%2F2010%2039m&cmpt=q&content=1&export=1\"\n",
    "file = open('keywords.txt', 'r')\n",
    "\n",
    "for line in file:\n",
    "    URL = '{0}{1}{2}'.format(URL_start,line.strip(),URL_end)\n",
    "    webbrowser.open(URL)\n",
    "    time.sleep(5)"
   ]
  },
  {
   "cell_type": "code",
   "execution_count": null,
   "metadata": {
    "collapsed": false
   },
   "outputs": [],
   "source": [
    "file = open('keywords.txt', 'r')\n",
    "\n",
    "for line in file:\n",
    "    print line,"
   ]
  }
 ],
 "metadata": {
  "kernelspec": {
   "display_name": "Python 2",
   "language": "python",
   "name": "python2"
  },
  "language_info": {
   "codemirror_mode": {
    "name": "ipython",
    "version": 2
   },
   "file_extension": ".py",
   "mimetype": "text/x-python",
   "name": "python",
   "nbconvert_exporter": "python",
   "pygments_lexer": "ipython2",
   "version": "2.7.10"
  }
 },
 "nbformat": 4,
 "nbformat_minor": 0
}
