{
 "cells": [
  {
   "cell_type": "code",
   "execution_count": 40,
   "metadata": {
    "collapsed": true
   },
   "outputs": [],
   "source": [
    "import pandas as pd\n",
    "import numpy as np\n",
    "import xlsxwriter as ex\n",
    "\n",
    "## CREATE 2 DIFFERENT EXCEL FILE, NORMALIZE DATE BETWEEN 0 - 6 and\n",
    "## 0 to 1"
   ]
  },
  {
   "cell_type": "code",
   "execution_count": null,
   "metadata": {
    "collapsed": false,
    "scrolled": true
   },
   "outputs": [],
   "source": [
    "%cd /home/bbardak/Desktop/Tez/MultipleDisease/sonson/Datasets/"
   ]
  },
  {
   "cell_type": "code",
   "execution_count": 43,
   "metadata": {
    "collapsed": true
   },
   "outputs": [],
   "source": [
    "all_disease_wiki_data = pd.read_csv('all_disease_wiki.csv')\n",
    "all_disease_cdc_data = pd.read_csv('normalized_cdc_all_disease.csv')\n",
    "cdc_flu_list = pd.read_csv('en_flu_2011-01-01_2014-01-04.csv', header=None)"
   ]
  },
  {
   "cell_type": "code",
   "execution_count": 48,
   "metadata": {
    "collapsed": false
   },
   "outputs": [
    {
     "name": "stdout",
     "output_type": "stream",
     "text": [
      "6.067871991\n",
      "0.529812879\n"
     ]
    }
   ],
   "source": [
    "flu_max_rate = max(cdc_flu_list[1])\n",
    "flu_min_rate = min(cdc_flu_list[1])\n",
    "print flu_max_rate\n",
    "print flu_min_rate"
   ]
  },
  {
   "cell_type": "code",
   "execution_count": 54,
   "metadata": {
    "collapsed": false
   },
   "outputs": [],
   "source": [
    "WIKI_STARTING_DATE = []\n",
    "WIKI_ENDING_DATE = []\n",
    "\n",
    "for index,i in enumerate(all_disease_wiki_data['Unnamed: 0']):\n",
    "    if i == '2011-01-01':\n",
    "        WIKI_STARTING_DATE.append(i)\n",
    "        WIKI_STARTING_DATE.append(index)\n",
    "    if i == '2014-01-10':\n",
    "        WIKI_ENDING_DATE.append(i)\n",
    "        WIKI_ENDING_DATE.append(index)\n",
    "#a = wiki.groupby(np.arange(len(wiki))//7).sum()\n",
    "\n",
    "wiki_start_range = WIKI_STARTING_DATE[1]\n",
    "wiki_end_range = WIKI_ENDING_DATE[1]+1\n",
    "\n",
    "all_disease_wiki_data = all_disease_wiki_data[wiki_start_range:wiki_end_range].groupby(np.arange(len(all_disease_wiki_data[wiki_start_range:wiki_end_range]))//7).sum()"
   ]
  },
  {
   "cell_type": "code",
   "execution_count": 55,
   "metadata": {
    "collapsed": true
   },
   "outputs": [],
   "source": [
    "workbook = ex.Workbook('normalized_disease_wiki_0_6_range.xlsx')\n",
    "worksheet = workbook.add_worksheet()"
   ]
  },
  {
   "cell_type": "code",
   "execution_count": 56,
   "metadata": {
    "collapsed": true
   },
   "outputs": [],
   "source": [
    "column = 0\n",
    "\n",
    "for i in all_disease_wiki_data.columns:\n",
    "    if i != 'Week' and i != 'Date_and_Year' and i!='Unnamed: 0':\n",
    "        column = column + 1\n",
    "        row = 0\n",
    "        normalized_list = normalize_between_2_range(all_disease_wiki_data[i], flu_min_rate, flu_max_rate)\n",
    "        for j in normalized_list:\n",
    "            worksheet.write(row,column,j)\n",
    "            row = row + 1\n",
    "workbook.close()"
   ]
  },
  {
   "cell_type": "code",
   "execution_count": 57,
   "metadata": {
    "collapsed": false
   },
   "outputs": [],
   "source": [
    "workbook = ex.Workbook('normalized_disease_wiki_0_1_range.xlsx')\n",
    "worksheet = workbook.add_worksheet()"
   ]
  },
  {
   "cell_type": "code",
   "execution_count": 58,
   "metadata": {
    "collapsed": false
   },
   "outputs": [],
   "source": [
    "column = 0\n",
    "\n",
    "for i in all_disease_wiki_data.columns:\n",
    "    if i != 'Week' and i != 'Date_and_Year' and i!='Unnamed: 0':\n",
    "        column = column + 1\n",
    "        row = 0\n",
    "        normalized_list = normalize_between_2_range(all_disease_wiki_data[i], 0, 1)\n",
    "        for j in normalized_list:\n",
    "            worksheet.write(row,column,j)\n",
    "            row = row + 1\n",
    "workbook.close()"
   ]
  },
  {
   "cell_type": "code",
   "execution_count": 39,
   "metadata": {
    "collapsed": true
   },
   "outputs": [],
   "source": [
    "def normalize_between_2_range(alist, A ,B):\n",
    "    # alist = a list which try to normalized\n",
    "    # A = new min range startint point\n",
    "    # B = new max range ending point\n",
    "    # min = min of alist\n",
    "    # max = max of alist\n",
    "    \n",
    "    temp_list = []\n",
    "    max_value_of_alist = max(alist)\n",
    "    min_value_of_alist = min(alist)\n",
    "    A = float(A)\n",
    "    B = float(B)\n",
    "    max_value_of_alist = float(max_value_of_alist)\n",
    "    min_value_of_alist = float(min_value_of_alist)\n",
    "    \n",
    "    for value in alist:\n",
    "        newvalue= (B-A)/(max_value_of_alist-min_value_of_alist)*(float(value)-max_value_of_alist)+B\n",
    "        temp_list.append(newvalue)\n",
    "    return temp_list"
   ]
  }
 ],
 "metadata": {
  "kernelspec": {
   "display_name": "Python 2",
   "language": "python",
   "name": "python2"
  },
  "language_info": {
   "codemirror_mode": {
    "name": "ipython",
    "version": 2
   },
   "file_extension": ".py",
   "mimetype": "text/x-python",
   "name": "python",
   "nbconvert_exporter": "python",
   "pygments_lexer": "ipython2",
   "version": "2.7.10"
  }
 },
 "nbformat": 4,
 "nbformat_minor": 0
}
